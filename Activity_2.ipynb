{
  "nbformat": 4,
  "nbformat_minor": 0,
  "metadata": {
    "colab": {
      "name": "Activity 2.ipynb",
      "provenance": [],
      "authorship_tag": "ABX9TyNXrees1D6sC3FFbQUzpyhn",
      "include_colab_link": true
    },
    "kernelspec": {
      "name": "python3",
      "display_name": "Python 3"
    },
    "language_info": {
      "name": "python"
    }
  },
  "cells": [
    {
      "cell_type": "markdown",
      "metadata": {
        "id": "view-in-github",
        "colab_type": "text"
      },
      "source": [
        "<a href=\"https://colab.research.google.com/github/paulfrancis24/OOP-1-2/blob/main/Activity_2.ipynb\" target=\"_parent\"><img src=\"https://colab.research.google.com/assets/colab-badge.svg\" alt=\"Open In Colab\"/></a>"
      ]
    },
    {
      "cell_type": "code",
      "execution_count": 67,
      "metadata": {
        "colab": {
          "base_uri": "https://localhost:8080/"
        },
        "id": "OTJ-H5GrS3Zg",
        "outputId": "c2b961a1-6e0b-4125-b2ca-ea57d8ad4812"
      },
      "outputs": [
        {
          "output_type": "stream",
          "name": "stdout",
          "text": [
            "104\n"
          ]
        }
      ],
      "source": [
        "#Write a python program that converts the temperature Celsius to Fahrenheit. Create a class name Temperature.\n",
        "#Create Celsius as attribute name, Temp() as method, and temp1 as object name. \n",
        "\n",
        "class Temperature:\n",
        "  def __init__(self,Celsius):\n",
        "    self.Celsius = Celsius\n",
        "\n",
        "  def Temp(self):\n",
        "    Fahrenheit = self.Celsius * 1.8 + 32\n",
        "    print(round(Fahrenheit))\n",
        "\n",
        "temp1 = Temperature(40)\n",
        "\n",
        "temp1.Temp()\n",
        "\n"
      ]
    },
    {
      "cell_type": "code",
      "source": [
        "#1.\tDefine an Area() method of the class that calculates the circle’s area.\n",
        "#2.\tDefine a Perimeter() method of the class which allows you to calculate the perimeter of the circle.\n",
        "#3.\tSave your python program named as “Activity 2” to your GitHub repository “OOP 1-2”\n",
        "#4.\tShare your GitHub link attached with this manuscript.\n",
        "\n",
        "class Circle:\n",
        "  def __init__(self,radius):\n",
        "    self.radius = radius\n",
        "\n",
        "  def Area(self):\n",
        "    area = 3.14159 * (self.radius)**2\n",
        "    print(\"Area =\", round(area,2),\"sq. unit(s)\")\n",
        "\n",
        "  def Perimeter(self):\n",
        "    perimeter = 2 * 3.14159 * self.radius\n",
        "    print(\"Perimeter =\", round(perimeter,2), \"unit(s)\")\n",
        "\n",
        "r1 = Circle(float(input(\"Enter the radius: \")))\n",
        "\n",
        "r1.Area()\n",
        "r1.Perimeter()\n"
      ],
      "metadata": {
        "colab": {
          "base_uri": "https://localhost:8080/"
        },
        "id": "cEeYpnzEfpL6",
        "outputId": "6a1073c0-4fea-4f67-cbe1-29614a8fc970"
      },
      "execution_count": 86,
      "outputs": [
        {
          "output_type": "stream",
          "name": "stdout",
          "text": [
            "Enter the radius: 10\n",
            "Area = 314.16 sq. unit(s)\n",
            "Perimeter = 62.83 unit(s)\n"
          ]
        }
      ]
    }
  ]
}