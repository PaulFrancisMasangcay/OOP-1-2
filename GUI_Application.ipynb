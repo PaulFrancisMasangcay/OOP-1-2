{
  "nbformat": 4,
  "nbformat_minor": 0,
  "metadata": {
    "colab": {
      "name": "GUI Application.ipynb",
      "provenance": [],
      "collapsed_sections": [],
      "authorship_tag": "ABX9TyMbOPePR8/n2ZKhzXDXTcQ5",
      "include_colab_link": true
    },
    "kernelspec": {
      "name": "python3",
      "display_name": "Python 3"
    },
    "language_info": {
      "name": "python"
    }
  },
  "cells": [
    {
      "cell_type": "markdown",
      "metadata": {
        "id": "view-in-github",
        "colab_type": "text"
      },
      "source": [
        "<a href=\"https://colab.research.google.com/github/paulfrancis24/OOP-1-2/blob/main/GUI_Application.ipynb\" target=\"_parent\"><img src=\"https://colab.research.google.com/assets/colab-badge.svg\" alt=\"Open In Colab\"/></a>"
      ]
    },
    {
      "cell_type": "code",
      "execution_count": 8,
      "metadata": {
        "colab": {
          "base_uri": "https://localhost:8080/"
        },
        "id": "QexhkNyRuzaQ",
        "outputId": "ccb2a71e-4fcd-4153-9ccf-8f440423f0d1"
      },
      "outputs": [
        {
          "output_type": "stream",
          "name": "stdout",
          "text": [
            "The prelim grade of student 1 is 100\n",
            "The midterm grade of student 1 is 100\n",
            "The final grade of student 1 is 100\n",
            "100.0\n",
            "His gender is Male\n"
          ]
        }
      ],
      "source": [
        "#@title Students Grade in OOP\n",
        "\n",
        "Student_Name1 = \"Enter the student name\" #@param (type: \"string\")\n",
        "prelim =  100#@param (type:\"number\")\n",
        "midterm = 100 #@param (type:\"number\")\n",
        "final =  100#@param (type: \"number\")\n",
        "\n",
        "semestral_grade = (prelim+midterm+final)/3\n",
        "\n",
        "print(\"The prelim grade of student 1 is\", prelim)\n",
        "print(\"The midterm grade of student 1 is\", midterm)\n",
        "print(\"The final grade of student 1 is\", final)\n",
        "print(semestral_grade) \n",
        "\n",
        "#@title Gender\n",
        "\n",
        "Gender = \"Male\" #@param [\"Male\", \"Female\"]\n",
        "print(\"His gender is\", Gender)\n",
        "\n",
        "Birthdate = \"2022-04-07\" #@param {type:\"date\"}\n",
        "\n"
      ]
    }
  ]
}