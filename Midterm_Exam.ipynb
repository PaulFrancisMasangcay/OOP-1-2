{
  "nbformat": 4,
  "nbformat_minor": 0,
  "metadata": {
    "colab": {
      "name": "Midterm Exam.ipynb",
      "provenance": [],
      "authorship_tag": "ABX9TyMBjlr0msHc5QxvWqGuVADA",
      "include_colab_link": true
    },
    "kernelspec": {
      "name": "python3",
      "display_name": "Python 3"
    },
    "language_info": {
      "name": "python"
    }
  },
  "cells": [
    {
      "cell_type": "markdown",
      "metadata": {
        "id": "view-in-github",
        "colab_type": "text"
      },
      "source": [
        "<a href=\"https://colab.research.google.com/github/paulfrancis24/OOP-1-2/blob/main/Midterm_Exam.ipynb\" target=\"_parent\"><img src=\"https://colab.research.google.com/assets/colab-badge.svg\" alt=\"Open In Colab\"/></a>"
      ]
    },
    {
      "cell_type": "code",
      "execution_count": 15,
      "metadata": {
        "colab": {
          "base_uri": "https://localhost:8080/"
        },
        "id": "z7k-yK2Cjrvm",
        "outputId": "da2ea05c-351e-43b3-9a74-f084380c6b02"
      },
      "outputs": [
        {
          "output_type": "stream",
          "name": "stdout",
          "text": [
            "Enter the temperature in Celsius: 100\n",
            "373.15 Kelvin\n",
            "212.0 Fahrenheit\n",
            "Enter the temperature in Fahrenheit: 212\n",
            "100.0 Celsius\n",
            "Enter the temperature in Kelvin: 373.15\n",
            "100.0 Celsius\n"
          ]
        }
      ],
      "source": [
        "def main():\n",
        "  class TemperatureConversion:\n",
        "    def __init__(self, temp=1):\n",
        "      self._temp = temp\n",
        "\n",
        "  class CelsiusToFahrenheit(TemperatureConversion):\n",
        "    def conversion(self):\n",
        "      return (self._temp * 9) / 5 + 32\n",
        "\n",
        "  class CelsiusToKelvin(TemperatureConversion):\n",
        "    def conversion(self):\n",
        "      return self._temp + 273.15\n",
        "\n",
        "  class FahrenheitToCelsius(TemperatureConversion):\n",
        "    def conversion(self):\n",
        "      return (self._temp - 32) / 1.8\n",
        "\n",
        "  class KelvinToCelsius(TemperatureConversion):\n",
        "    def conversion(self):\n",
        "      return (self._temp - 273.15)\n",
        "\n",
        "\n",
        "  tempInCelsius = float(input(\"Enter the temperature in Celsius: \"))\n",
        "  convert = CelsiusToKelvin(tempInCelsius)\n",
        "  print(str(convert.conversion()) + \" Kelvin\")\n",
        "  convert = CelsiusToFahrenheit(tempInCelsius)\n",
        "  print(str(convert.conversion()) + \" Fahrenheit\")\n",
        "  tempInFahrenheit = float(input(\"Enter the temperature in Fahrenheit: \"))  #will only convert to celsius\n",
        "  convert = FahrenheitToCelsius(tempInFahrenheit)\n",
        "  print(str(round(convert.conversion(),2)) + \" Celsius\")\n",
        "  tempInKelvin = float(input(\"Enter the temperature in Kelvin: \"))  #will only convert to celsius\n",
        "  convert = KelvinToCelsius(tempInKelvin)\n",
        "  print(str(round(convert.conversion(),2)) + \" Celsius\")\n",
        "\n",
        "main()\n"
      ]
    }
  ]
}