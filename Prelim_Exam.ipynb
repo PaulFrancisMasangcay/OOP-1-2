{
  "nbformat": 4,
  "nbformat_minor": 0,
  "metadata": {
    "colab": {
      "name": "Prelim Exam.ipynb",
      "provenance": [],
      "authorship_tag": "ABX9TyMPCMptl8RKJ1HImb4NtaNl",
      "include_colab_link": true
    },
    "kernelspec": {
      "name": "python3",
      "display_name": "Python 3"
    },
    "language_info": {
      "name": "python"
    }
  },
  "cells": [
    {
      "cell_type": "markdown",
      "metadata": {
        "id": "view-in-github",
        "colab_type": "text"
      },
      "source": [
        "<a href=\"https://colab.research.google.com/github/paulfrancis24/OOP-1-2/blob/main/Prelim_Exam.ipynb\" target=\"_parent\"><img src=\"https://colab.research.google.com/assets/colab-badge.svg\" alt=\"Open In Colab\"/></a>"
      ]
    },
    {
      "cell_type": "code",
      "execution_count": 7,
      "metadata": {
        "colab": {
          "base_uri": "https://localhost:8080/"
        },
        "id": "2QogTL4pfr7-",
        "outputId": "fa0901f7-6de1-4648-eca7-db0b8dec2d03"
      },
      "outputs": [
        {
          "output_type": "stream",
          "name": "stdout",
          "text": [
            "Paul Francis B. Masangcay\n",
            "202101724\n",
            "19\n",
            "CvSU\n",
            "BS Computer Engineering\n"
          ]
        }
      ],
      "source": [
        "class Student:\n",
        "  def __init__(self,Name, Student_No, Age, School, Course):\n",
        "    self.Name = Name\n",
        "    self.Student_No = Student_No\n",
        "    self.Age = Age\n",
        "    self.School = School\n",
        "    self.Course = Course\n",
        "  \n",
        "  def Info(self):\n",
        "    print(self.Name)\n",
        "    print(self.Student_No)\n",
        "    print(self.Age)\n",
        "    print(self.School)\n",
        "    print(self.Course)\n",
        "  \n",
        "Myself = Student(\"Paul Francis B. Masangcay\", 202101724, 19, \"CvSU\", \"BS Computer Engineering\")\n",
        "Myself.Info()"
      ]
    }
  ]
}