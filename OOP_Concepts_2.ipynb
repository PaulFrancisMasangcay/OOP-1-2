{
  "cells": [
    {
      "cell_type": "markdown",
      "metadata": {
        "id": "view-in-github",
        "colab_type": "text"
      },
      "source": [
        "<a href=\"https://colab.research.google.com/github/paulfrancis24/OOP-1-2/blob/main/OOP_Concepts_2.ipynb\" target=\"_parent\"><img src=\"https://colab.research.google.com/assets/colab-badge.svg\" alt=\"Open In Colab\"/></a>"
      ]
    },
    {
      "cell_type": "markdown",
      "metadata": {
        "id": "iypLaQU9Y41I"
      },
      "source": [
        "Classes with Multiple Objects"
      ]
    },
    {
      "cell_type": "code",
      "execution_count": null,
      "metadata": {
        "id": "waFLk9FrY5PP"
      },
      "outputs": [],
      "source": [
        "class Birds:\n",
        "  def __init__(self,bird_name):\n",
        "    self.bird_name = bird_name\n",
        "\n",
        "  def flying_birds(self):\n",
        "    print(f\"{self.bird_name} flies above the sky\")\n",
        "\n",
        "  def non_flying_birds(self):\n",
        "    print(f\"{self.bird_name} is the national bird of the Philippines\")\n",
        "\n",
        "vulture = Birds(\"Griffon Vulture\")\n",
        "crane = Birds(\"Common Crane\")\n",
        "emu = Birds(\"Emu\")\n",
        "\n",
        "vulture.flying_birds()\n",
        "crane.flying_birds()\n",
        "emu.non_flying_birds()"
      ]
    },
    {
      "cell_type": "markdown",
      "metadata": {
        "id": "oFhZSvMVXYhs"
      },
      "source": [
        "Encapsulation using mangling with double underscores"
      ]
    },
    {
      "cell_type": "code",
      "execution_count": null,
      "metadata": {
        "colab": {
          "base_uri": "https://localhost:8080/"
        },
        "id": "UjLOnhkjXX1Y",
        "outputId": "633a61a4-b398-4956-f7b3-e79a18d2c8b5"
      },
      "outputs": [
        {
          "data": {
            "text/plain": [
              "7"
            ]
          },
          "execution_count": 5,
          "metadata": {},
          "output_type": "execute_result"
        }
      ],
      "source": [
        "class foo:\n",
        "  def __init__(self,a,b):\n",
        "    self.__a = a\n",
        "    self.__b = b \n",
        "\n",
        "  def add(self):\n",
        "    return self.__a + self.__b\n",
        "\n",
        "number = foo(3,4)\n",
        "number.add()\n",
        "\n",
        "number.a = 7\n",
        "number.add()"
      ]
    },
    {
      "cell_type": "markdown",
      "metadata": {
        "id": "nec_kNsBY4AY"
      },
      "source": [
        "Encapsulation with Private Attributes"
      ]
    },
    {
      "cell_type": "code",
      "execution_count": null,
      "metadata": {
        "colab": {
          "base_uri": "https://localhost:8080/"
        },
        "id": "uEFnxkwCXos8",
        "outputId": "338a22e2-7ad3-4260-8f92-97725ec54eba"
      },
      "outputs": [
        {
          "data": {
            "text/plain": [
              "3"
            ]
          },
          "execution_count": 8,
          "metadata": {},
          "output_type": "execute_result"
        }
      ],
      "source": [
        "class Counter:\n",
        "  def __init__(self):\n",
        "    self.current = 0\n",
        "\n",
        "  def increment(self):\n",
        "    self.current += 1\n",
        "\n",
        "  def value(self):\n",
        "    return self.current\n",
        "  \n",
        "  def reset(self):\n",
        "    self.current = 0\n",
        "\n",
        "num = Counter()\n",
        "\n",
        "num.increment()\n",
        "num.increment()\n",
        "num.increment()\n",
        "\n",
        "num.value()\n",
        "\n"
      ]
    },
    {
      "cell_type": "code",
      "execution_count": null,
      "metadata": {
        "colab": {
          "base_uri": "https://localhost:8080/"
        },
        "id": "9o4lHS7wam14",
        "outputId": "e5631310-5df6-4f70-b222-a9357c091da4"
      },
      "outputs": [
        {
          "data": {
            "text/plain": [
              "4"
            ]
          },
          "execution_count": 34,
          "metadata": {},
          "output_type": "execute_result"
        }
      ],
      "source": [
        "class Counter:\n",
        "  def __init__(self):\n",
        "    self.__current = 0\n",
        "\n",
        "  def increment(self):\n",
        "    self.__current += 1\n",
        "\n",
        "  def value(self):\n",
        "    return self.__current\n",
        "  \n",
        "  def reset(self):\n",
        "    self.__current = 0\n",
        "\n",
        "num = Counter()\n",
        "\n",
        "num.increment()\n",
        "num.increment()\n",
        "num.increment()\n",
        "\n",
        "num.Counter = 1\n",
        "\n",
        "num.increment()\n",
        "num.value()\n"
      ]
    },
    {
      "cell_type": "markdown",
      "metadata": {
        "id": "jUbpVyZwdVsH"
      },
      "source": [
        "Inheritance"
      ]
    },
    {
      "cell_type": "code",
      "execution_count": null,
      "metadata": {
        "colab": {
          "base_uri": "https://localhost:8080/"
        },
        "id": "bSOl-cN-auqH",
        "outputId": "46951cb1-e4ff-4f08-b02b-d80a6724a474"
      },
      "outputs": [
        {
          "name": "stdout",
          "output_type": "stream",
          "text": [
            "Ana Santos\n",
            "Maria Sayo\n",
            "Paul Masangcay\n"
          ]
        }
      ],
      "source": [
        "class Person:\n",
        "  def __init__(self,firstname,surname):\n",
        "    self.firstname = firstname\n",
        "    self.surname = surname\n",
        "\n",
        "  def printname(self):\n",
        "    print(self.firstname,self.surname)\n",
        "\n",
        "person = Person(\"Ana\", \"Santos\")\n",
        "\n",
        "person.printname()\n",
        "\n",
        "class Teacher(Person):\n",
        "  pass\n",
        "\n",
        "person2 = Teacher(\"Maria\", \"Sayo\")\n",
        "person2.printname()\n",
        "\n",
        "class Student(Person):\n",
        "  pass\n",
        "\n",
        "person3 = Student(\"Paul\", \"Masangcay\")\n",
        "person3.printname()"
      ]
    },
    {
      "cell_type": "markdown",
      "metadata": {
        "id": "DwOmGuQ1fIga"
      },
      "source": [
        "Polymorphism"
      ]
    },
    {
      "cell_type": "code",
      "execution_count": null,
      "metadata": {
        "colab": {
          "base_uri": "https://localhost:8080/"
        },
        "id": "2J1o9xL0fJPG",
        "outputId": "42589196-7983-4f53-d178-63f27add7ffa"
      },
      "outputs": [
        {
          "name": "stdout",
          "output_type": "stream",
          "text": [
            "16\n",
            "3.897\n"
          ]
        }
      ],
      "source": [
        "class RegularPolygon:\n",
        "    def __init__(self,side):\n",
        "        self.side = side\n",
        "class Square(RegularPolygon):\n",
        "    def area(self):\n",
        "        return self.side * self.side\n",
        "class EquilateralTriangle(RegularPolygon):\n",
        "    def area(self):\n",
        "        return self.side * self.side * 0.433\n",
        "\n",
        "obj = Square(4)\n",
        "print(obj.area())\n",
        "\n",
        "obj2 = EquilateralTriangle(3)\n",
        "print(obj2.area())"
      ]
    },
    {
      "cell_type": "markdown",
      "metadata": {
        "id": "096JghYYiYf3"
      },
      "source": [
        "Application 1"
      ]
    },
    {
      "cell_type": "markdown",
      "metadata": {
        "id": "-iYarrf2kSLB"
      },
      "source": [
        "1. Create a Python program that displays the name of three students (Student 1, Student 2 and Student 3)\n",
        "2. Create a class name Person and attributes - std1, std2, std3, pre, mid, fin\n",
        "3. Compute the average of each term grade using Grade() method\n",
        "4. Information about student's grades must be hidden from others"
      ]
    },
    {
      "cell_type": "code",
      "execution_count": 3,
      "metadata": {
        "colab": {
          "base_uri": "https://localhost:8080/"
        },
        "id": "0b81XwlDiaKF",
        "outputId": "fb2ed731-666d-4021-d7a6-dc5e26fac605"
      },
      "outputs": [
        {
          "output_type": "stream",
          "name": "stdout",
          "text": [
            "Enter your name to see your grades.\n",
            "Name: Masangcay\n",
            "Prelim: 100\n",
            "Mid Term: 98\n",
            "Finals: 89\n",
            "Your Final Grade: 95.67 \n",
            "\n"
          ]
        }
      ],
      "source": [
        "class Person:\n",
        "  def __init__(self,name,pre,mid,fin):\n",
        "    self.__name = name\n",
        "    self.__pre = pre\n",
        "    self.__mid = mid\n",
        "    self.__fin = fin\n",
        "  \n",
        "  def Grade(self):\n",
        "    Ave = 0 \n",
        "    Ave = (self.__pre + self.__mid + self.__fin)/3\n",
        "    print(\"Prelim:\",self.__pre)\n",
        "    print(\"Mid Term:\",self.__mid)\n",
        "    print(\"Finals:\",self.__fin)\n",
        "    print(\"Your Final Grade:\", round(Ave,2), \"\\n\")\n",
        "\n",
        "class std1(Person):\n",
        "  pass\n",
        "class std2(Person):\n",
        "  pass\n",
        "class std3(Person):\n",
        "  pass\n",
        "\n",
        "std1 = std1(\"Paul Francis\", 93, 94,80)\n",
        "std2 = std2(\"Masangcay\", 100, 98,89)\n",
        "std3 = std3(\"Francis Paul\", 86, 87,80)\n",
        "\n",
        "\n",
        "print(\"Enter your name to see your grades.\")\n",
        "x = input(\"Name: \")\n",
        "\n",
        "if x == \"Paul Francis\":\n",
        "  std1.Grade()\n",
        "\n",
        "elif x == \"Masangcay\":\n",
        "  std2.Grade()\n",
        "\n",
        "elif x == \"Francis Paul\":\n",
        "  std3.Grade()\n",
        "\n",
        "else:\n",
        "  print(\"Your grades are not yet stored.\")"
      ]
    }
  ],
  "metadata": {
    "colab": {
      "name": "OOP Concepts 2.ipynb",
      "provenance": [],
      "authorship_tag": "ABX9TyOwwqPB8vhGzDxOsE75TOMK",
      "include_colab_link": true
    },
    "kernelspec": {
      "display_name": "Python 3",
      "name": "python3"
    },
    "language_info": {
      "name": "python"
    }
  },
  "nbformat": 4,
  "nbformat_minor": 0
}