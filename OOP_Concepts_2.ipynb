{
  "nbformat": 4,
  "nbformat_minor": 0,
  "metadata": {
    "colab": {
      "name": "OOP Concepts 2.ipynb",
      "provenance": [],
      "authorship_tag": "ABX9TyMT7ydsRz9qFENlwEp9YPX5",
      "include_colab_link": true
    },
    "kernelspec": {
      "name": "python3",
      "display_name": "Python 3"
    },
    "language_info": {
      "name": "python"
    }
  },
  "cells": [
    {
      "cell_type": "markdown",
      "metadata": {
        "id": "view-in-github",
        "colab_type": "text"
      },
      "source": [
        "<a href=\"https://colab.research.google.com/github/paulfrancis24/OOP-1-2/blob/main/OOP_Concepts_2.ipynb\" target=\"_parent\"><img src=\"https://colab.research.google.com/assets/colab-badge.svg\" alt=\"Open In Colab\"/></a>"
      ]
    },
    {
      "cell_type": "markdown",
      "source": [
        "1. Create a Python program that displays the name of three students (Student 1,\n",
        "Student 2, and Student 3) and their term grades\n",
        "2. Create a class name Person and attributes – std1, std2, std2, pre, mid, fin\n",
        "3. Compute the average of each term grade using Grade() method\n",
        "4. Information about student’s grades must be hidden from others\n",
        "5. Save your python program named as “OOP Concepts 2” to your GitHub\n",
        "repository “OOP 1-2”\n",
        "6. Share your GitHub link attached with this manuscript."
      ],
      "metadata": {
        "id": "afskJUSR75uG"
      }
    },
    {
      "cell_type": "code",
      "execution_count": 29,
      "metadata": {
        "colab": {
          "base_uri": "https://localhost:8080/"
        },
        "id": "z631msmM73iJ",
        "outputId": "a5c2ec73-854d-44a1-e911-df0a7ad3b8be"
      },
      "outputs": [
        {
          "output_type": "stream",
          "name": "stdout",
          "text": [
            "Enter your name to see your grades.\n",
            "Name: Paul Francis\n",
            "Prelim: 93\n",
            "Mid Term: 94\n",
            "Finals: 80\n",
            "Your Final Grade: 89.0 \n",
            "\n"
          ]
        }
      ],
      "source": [
        "class Person:\n",
        "  def __init__(self,name,pre,mid,fin):\n",
        "    self.__name = name\n",
        "    self.__pre = pre\n",
        "    self.__mid = mid\n",
        "    self.__fin = fin\n",
        "  \n",
        "  def Grade(self):\n",
        "    Ave = 0 \n",
        "    Ave = (self.__pre + self.__mid + self.__fin)/3\n",
        "    print(\"Prelim:\",self.__pre)\n",
        "    print(\"Mid Term:\",self.__mid)\n",
        "    print(\"Finals:\",self.__fin)\n",
        "    print(\"Your Final Grade:\", round(Ave,2), \"\\n\")\n",
        "\n",
        "class std1(Person):\n",
        "  pass\n",
        "class std2(Person):\n",
        "  pass\n",
        "class std3(Person):\n",
        "  pass\n",
        "\n",
        "std1 = std1(\"Paul Francis \", 93, 94,80)\n",
        "std2 = std2(\"Masangcay\", 100, 98,89)\n",
        "std3 = std3(\"Francis Paul\", 86, 87,80)\n",
        "\n",
        "\n",
        "print(\"Enter your name to see your grades.\")\n",
        "x = input(\"Name: \")\n",
        "\n",
        "if x == \"Paul Francis\":\n",
        "  std1.Grade()\n",
        "\n",
        "elif x == \"Masangcay\":\n",
        "  std2.Grade()\n",
        "\n",
        "elif x == \"Francis Paul\":\n",
        "  std3.Grade()\n",
        "\n",
        "else:\n",
        "  print(\"Your grades are not yet stored.\")\n"
      ]
    }
  ]
}